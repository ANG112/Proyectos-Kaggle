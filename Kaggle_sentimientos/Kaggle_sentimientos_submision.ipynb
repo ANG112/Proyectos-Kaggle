{
 "cells": [
  {
   "cell_type": "markdown",
   "metadata": {},
   "source": []
  },
  {
   "cell_type": "markdown",
   "metadata": {},
   "source": [
    "## Importo librerías"
   ]
  },
  {
   "cell_type": "code",
   "execution_count": 35,
   "metadata": {},
   "outputs": [],
   "source": [
    "import os\n",
    "from PIL import Image\n",
    "import numpy as np\n",
    "import pandas as pd"
   ]
  },
  {
   "cell_type": "markdown",
   "metadata": {},
   "source": [
    "## Cargo datos de test"
   ]
  },
  {
   "cell_type": "code",
   "execution_count": 36,
   "metadata": {},
   "outputs": [
    {
     "name": "stdout",
     "output_type": "stream",
     "text": [
      "             ID                                            Pixeles\n",
      "0     10004.jpg  [1, 1, 1, 2, 7, 15, 16, 9, 11, 14, 13, 14, 31,...\n",
      "1     10019.jpg  [159, 157, 158, 166, 170, 170, 172, 171, 166, ...\n",
      "2     10023.jpg  [195, 198, 193, 190, 140, 70, 54, 88, 169, 212...\n",
      "3     10029.jpg  [41, 48, 57, 66, 68, 67, 75, 85, 94, 105, 109,...\n",
      "4      1003.jpg  [44, 33, 21, 23, 29, 29, 34, 37, 40, 40, 45, 4...\n",
      "...         ...                                                ...\n",
      "7061   9977.jpg  [178, 139, 130, 131, 159, 188, 183, 239, 249, ...\n",
      "7062   9979.jpg  [243, 243, 238, 196, 185, 176, 168, 162, 157, ...\n",
      "7063   9982.jpg  [203, 229, 234, 238, 233, 232, 238, 235, 229, ...\n",
      "7064   9984.jpg  [57, 56, 57, 63, 61, 56, 58, 58, 61, 72, 69, 6...\n",
      "7065   9993.jpg  [107, 111, 106, 119, 105, 13, 6, 10, 9, 13, 10...\n",
      "\n",
      "[7066 rows x 2 columns]\n"
     ]
    }
   ],
   "source": [
    "# Directorio donde están tus fotos\n",
    "directorio_fotos = './data/images/test'\n",
    "\n",
    "# Lista para almacenar los datos\n",
    "datos = []\n",
    "\n",
    "# Recorrer el directorio con las fotos\n",
    "for nombre_foto in os.listdir(directorio_fotos):\n",
    "    if nombre_foto.endswith('.jpg'):  \n",
    "        \n",
    "        with Image.open(os.path.join(directorio_fotos, nombre_foto)) as img:\n",
    "            # Convertir la imagen a escala de grises y luego a un array de numpy\n",
    "            array_pixeles = np.array(img.convert('L'))\n",
    "            # Aplanar el array para tener una sola fila de píxeles\n",
    "            array_pixeles = array_pixeles.flatten()\n",
    "            # Añadir el nombre de la foto y el array de píxeles a la lista de datos\n",
    "            datos.append({'ID': nombre_foto, 'Pixeles': array_pixeles})\n",
    "\n",
    "# Crear el dataframe\n",
    "df = pd.DataFrame(datos)\n",
    "\n",
    "# Mostrar el dataframe\n",
    "print(df)\n"
   ]
  },
  {
   "cell_type": "code",
   "execution_count": 37,
   "metadata": {},
   "outputs": [
    {
     "data": {
      "text/plain": [
       "2304"
      ]
     },
     "execution_count": 37,
     "metadata": {},
     "output_type": "execute_result"
    }
   ],
   "source": [
    "df['Pixeles'][0].size"
   ]
  },
  {
   "cell_type": "code",
   "execution_count": 54,
   "metadata": {},
   "outputs": [
    {
     "data": {
      "text/plain": [
       "(7066, 48, 48)"
      ]
     },
     "execution_count": 54,
     "metadata": {},
     "output_type": "execute_result"
    }
   ],
   "source": [
    "X_test = np.array(df['Pixeles'].to_list())\n",
    "X_test = X_test.reshape(-1,48,48)\n",
    "X_test.shape"
   ]
  },
  {
   "cell_type": "code",
   "execution_count": 55,
   "metadata": {},
   "outputs": [],
   "source": [
    "X_test = X_test/255"
   ]
  },
  {
   "cell_type": "code",
   "execution_count": 40,
   "metadata": {},
   "outputs": [
    {
     "data": {
      "text/plain": [
       "0       10004\n",
       "1       10019\n",
       "2       10023\n",
       "3       10029\n",
       "4        1003\n",
       "        ...  \n",
       "7061     9977\n",
       "7062     9979\n",
       "7063     9982\n",
       "7064     9984\n",
       "7065     9993\n",
       "Name: ID, Length: 7066, dtype: int32"
      ]
     },
     "execution_count": 40,
     "metadata": {},
     "output_type": "execute_result"
    }
   ],
   "source": [
    "df['ID'] = df['ID'].apply(lambda x: x.replace('.jpg','')).astype('int')\n",
    "df.ID"
   ]
  },
  {
   "cell_type": "markdown",
   "metadata": {},
   "source": [
    "## Cargo datos de train"
   ]
  },
  {
   "cell_type": "code",
   "execution_count": 44,
   "metadata": {},
   "outputs": [
    {
     "name": "stdout",
     "output_type": "stream",
     "text": [
      "Dimensiones de X: (28821, 48, 48)\n",
      "Dimensiones de y: (28821,)\n"
     ]
    }
   ],
   "source": [
    "# Directorio donde están las imágenes\n",
    "base_dir = './data/images/train'\n",
    "\n",
    "# Diccionario de etiquetas\n",
    "dicc_sent = {\n",
    "    'angry': 0,\n",
    "    'disgust': 1,\n",
    "    'fear': 2,\n",
    "    'happy': 3,\n",
    "    'neutral': 4,\n",
    "    'sad': 5,\n",
    "    'surprise': 6\n",
    "}\n",
    "\n",
    "# Listas para almacenar imágenes y etiquetas\n",
    "X = []\n",
    "y = []\n",
    "\n",
    "# Iterar sobre las carpetas en el directorio base\n",
    "for folder_name in os.listdir(base_dir):\n",
    "    folder_path = os.path.join(base_dir, folder_name)\n",
    "    label = dicc_sent[folder_name]\n",
    "    \n",
    "    # Iterar sobre cada archivo de imagen en la carpeta\n",
    "    for img_name in os.listdir(folder_path):\n",
    "        img_path = os.path.join(folder_path, img_name)\n",
    "        \n",
    "        # Cargar la imagen en escala de grises usando PIL\n",
    "        img = Image.open(img_path).convert('L')\n",
    "        \n",
    "        # Convertir la imagen a un array de NumPy\n",
    "        img_array = np.array(img)\n",
    "        \n",
    "        # Agregar la imagen y su etiqueta a las listas\n",
    "        X.append(img_array)\n",
    "        y.append(label)\n",
    "\n",
    "# Convertir listas a arrays de NumPy\n",
    "X = np.array(X)\n",
    "y = np.array(y)\n",
    "\n",
    "# Verificar las dimensiones de los arrays\n",
    "print(\"Dimensiones de X:\", X.shape)\n",
    "print(\"Dimensiones de y:\", y.shape)\n",
    "\n",
    "\n",
    "# Normalizar las imágenes\n",
    "X = X / 255.0"
   ]
  },
  {
   "cell_type": "markdown",
   "metadata": {},
   "source": [
    "## Cargamos el modelo"
   ]
  },
  {
   "cell_type": "code",
   "execution_count": 56,
   "metadata": {},
   "outputs": [
    {
     "name": "stdout",
     "output_type": "stream",
     "text": [
      "\u001b[1m221/221\u001b[0m \u001b[32m━━━━━━━━━━━━━━━━━━━━\u001b[0m\u001b[37m\u001b[0m \u001b[1m7s\u001b[0m 27ms/step\n"
     ]
    },
    {
     "data": {
      "text/plain": [
       "array([[7.8055668e-01, 8.9818733e-03, 1.2107862e-01, ..., 2.1878291e-02,\n",
       "        3.6318485e-02, 1.6421525e-02],\n",
       "       [4.5219162e-03, 3.5706221e-03, 2.4969140e-02, ..., 1.8749794e-02,\n",
       "        3.0145790e-02, 7.4278428e-03],\n",
       "       [1.2356385e-01, 4.0236357e-04, 1.3211977e-01, ..., 2.2810379e-01,\n",
       "        1.1960952e-01, 5.0143078e-03],\n",
       "       ...,\n",
       "       [3.3733916e-02, 9.6485246e-04, 2.5416508e-02, ..., 1.1538694e-01,\n",
       "        7.4044518e-02, 6.0241511e-03],\n",
       "       [8.2126208e-02, 5.6384620e-03, 1.8081212e-01, ..., 3.3457670e-01,\n",
       "        1.9792198e-01, 1.3341463e-01],\n",
       "       [2.2322027e-01, 2.1067874e-04, 2.7795739e-02, ..., 5.8242345e-01,\n",
       "        1.5003496e-01, 2.6409018e-03]], dtype=float32)"
      ]
     },
     "execution_count": 56,
     "metadata": {},
     "output_type": "execute_result"
    }
   ],
   "source": [
    "import tensorflow as tf\n",
    "from tensorflow.keras.models import load_model\n",
    "\n",
    "model = load_model('best_model.keras')\n",
    "predictions = model.predict(X_test)\n",
    "predictions"
   ]
  },
  {
   "cell_type": "code",
   "execution_count": 58,
   "metadata": {},
   "outputs": [
    {
     "data": {
      "text/plain": [
       "7066"
      ]
     },
     "execution_count": 58,
     "metadata": {},
     "output_type": "execute_result"
    }
   ],
   "source": [
    "predicted_classes = np.argmax(predictions, axis=1)\n",
    "predicted_classes.size"
   ]
  },
  {
   "cell_type": "markdown",
   "metadata": {},
   "source": [
    "## Archivo submision"
   ]
  },
  {
   "cell_type": "code",
   "execution_count": 70,
   "metadata": {},
   "outputs": [
    {
     "data": {
      "text/html": [
       "<div>\n",
       "<style scoped>\n",
       "    .dataframe tbody tr th:only-of-type {\n",
       "        vertical-align: middle;\n",
       "    }\n",
       "\n",
       "    .dataframe tbody tr th {\n",
       "        vertical-align: top;\n",
       "    }\n",
       "\n",
       "    .dataframe thead th {\n",
       "        text-align: right;\n",
       "    }\n",
       "</style>\n",
       "<table border=\"1\" class=\"dataframe\">\n",
       "  <thead>\n",
       "    <tr style=\"text-align: right;\">\n",
       "      <th></th>\n",
       "      <th>id_img</th>\n",
       "      <th>label</th>\n",
       "    </tr>\n",
       "  </thead>\n",
       "  <tbody>\n",
       "    <tr>\n",
       "      <th>0</th>\n",
       "      <td>10004</td>\n",
       "      <td>0</td>\n",
       "    </tr>\n",
       "    <tr>\n",
       "      <th>1</th>\n",
       "      <td>10019</td>\n",
       "      <td>3</td>\n",
       "    </tr>\n",
       "    <tr>\n",
       "      <th>2</th>\n",
       "      <td>10023</td>\n",
       "      <td>3</td>\n",
       "    </tr>\n",
       "    <tr>\n",
       "      <th>3</th>\n",
       "      <td>10029</td>\n",
       "      <td>2</td>\n",
       "    </tr>\n",
       "    <tr>\n",
       "      <th>4</th>\n",
       "      <td>1003</td>\n",
       "      <td>5</td>\n",
       "    </tr>\n",
       "    <tr>\n",
       "      <th>...</th>\n",
       "      <td>...</td>\n",
       "      <td>...</td>\n",
       "    </tr>\n",
       "    <tr>\n",
       "      <th>7061</th>\n",
       "      <td>9977</td>\n",
       "      <td>3</td>\n",
       "    </tr>\n",
       "    <tr>\n",
       "      <th>7062</th>\n",
       "      <td>9979</td>\n",
       "      <td>3</td>\n",
       "    </tr>\n",
       "    <tr>\n",
       "      <th>7063</th>\n",
       "      <td>9982</td>\n",
       "      <td>3</td>\n",
       "    </tr>\n",
       "    <tr>\n",
       "      <th>7064</th>\n",
       "      <td>9984</td>\n",
       "      <td>4</td>\n",
       "    </tr>\n",
       "    <tr>\n",
       "      <th>7065</th>\n",
       "      <td>9993</td>\n",
       "      <td>4</td>\n",
       "    </tr>\n",
       "  </tbody>\n",
       "</table>\n",
       "<p>7066 rows × 2 columns</p>\n",
       "</div>"
      ],
      "text/plain": [
       "      id_img  label\n",
       "0      10004      0\n",
       "1      10019      3\n",
       "2      10023      3\n",
       "3      10029      2\n",
       "4       1003      5\n",
       "...      ...    ...\n",
       "7061    9977      3\n",
       "7062    9979      3\n",
       "7063    9982      3\n",
       "7064    9984      4\n",
       "7065    9993      4\n",
       "\n",
       "[7066 rows x 2 columns]"
      ]
     },
     "execution_count": 70,
     "metadata": {},
     "output_type": "execute_result"
    }
   ],
   "source": [
    "sample = pd.DataFrame()\n",
    "sample['id_img']= df['ID']\n",
    "sample['label']=predicted_classes\n",
    "sample"
   ]
  },
  {
   "cell_type": "code",
   "execution_count": 71,
   "metadata": {},
   "outputs": [
    {
     "data": {
      "text/html": [
       "<div>\n",
       "<style scoped>\n",
       "    .dataframe tbody tr th:only-of-type {\n",
       "        vertical-align: middle;\n",
       "    }\n",
       "\n",
       "    .dataframe tbody tr th {\n",
       "        vertical-align: top;\n",
       "    }\n",
       "\n",
       "    .dataframe thead th {\n",
       "        text-align: right;\n",
       "    }\n",
       "</style>\n",
       "<table border=\"1\" class=\"dataframe\">\n",
       "  <thead>\n",
       "    <tr style=\"text-align: right;\">\n",
       "      <th></th>\n",
       "      <th>id_img</th>\n",
       "      <th>label</th>\n",
       "    </tr>\n",
       "  </thead>\n",
       "  <tbody>\n",
       "    <tr>\n",
       "      <th>0</th>\n",
       "      <td>10004</td>\n",
       "      <td>angry</td>\n",
       "    </tr>\n",
       "    <tr>\n",
       "      <th>1</th>\n",
       "      <td>10019</td>\n",
       "      <td>happy</td>\n",
       "    </tr>\n",
       "    <tr>\n",
       "      <th>2</th>\n",
       "      <td>10023</td>\n",
       "      <td>happy</td>\n",
       "    </tr>\n",
       "    <tr>\n",
       "      <th>3</th>\n",
       "      <td>10029</td>\n",
       "      <td>fear</td>\n",
       "    </tr>\n",
       "    <tr>\n",
       "      <th>4</th>\n",
       "      <td>1003</td>\n",
       "      <td>sad</td>\n",
       "    </tr>\n",
       "    <tr>\n",
       "      <th>...</th>\n",
       "      <td>...</td>\n",
       "      <td>...</td>\n",
       "    </tr>\n",
       "    <tr>\n",
       "      <th>7061</th>\n",
       "      <td>9977</td>\n",
       "      <td>happy</td>\n",
       "    </tr>\n",
       "    <tr>\n",
       "      <th>7062</th>\n",
       "      <td>9979</td>\n",
       "      <td>happy</td>\n",
       "    </tr>\n",
       "    <tr>\n",
       "      <th>7063</th>\n",
       "      <td>9982</td>\n",
       "      <td>happy</td>\n",
       "    </tr>\n",
       "    <tr>\n",
       "      <th>7064</th>\n",
       "      <td>9984</td>\n",
       "      <td>neutral</td>\n",
       "    </tr>\n",
       "    <tr>\n",
       "      <th>7065</th>\n",
       "      <td>9993</td>\n",
       "      <td>neutral</td>\n",
       "    </tr>\n",
       "  </tbody>\n",
       "</table>\n",
       "<p>7066 rows × 2 columns</p>\n",
       "</div>"
      ],
      "text/plain": [
       "      id_img    label\n",
       "0      10004    angry\n",
       "1      10019    happy\n",
       "2      10023    happy\n",
       "3      10029     fear\n",
       "4       1003      sad\n",
       "...      ...      ...\n",
       "7061    9977    happy\n",
       "7062    9979    happy\n",
       "7063    9982    happy\n",
       "7064    9984  neutral\n",
       "7065    9993  neutral\n",
       "\n",
       "[7066 rows x 2 columns]"
      ]
     },
     "execution_count": 71,
     "metadata": {},
     "output_type": "execute_result"
    }
   ],
   "source": [
    "dicc_sent_inv = {\n",
    "    0 : 'angry' ,\n",
    "    1:'disgust',\n",
    "    2: 'fear',\n",
    "    3:'happy',\n",
    "    4:'neutral',\n",
    "    5:'sad',\n",
    "    6:'surprise'\n",
    "}\n",
    "\n",
    "sample['label'] = sample['label'].map(dicc_sent_inv)\n",
    "sample"
   ]
  },
  {
   "cell_type": "code",
   "execution_count": 72,
   "metadata": {},
   "outputs": [],
   "source": [
    "sample.to_csv('./data/submission_1.csv',index=False)"
   ]
  }
 ],
 "metadata": {
  "kernelspec": {
   "display_name": "base",
   "language": "python",
   "name": "python3"
  },
  "language_info": {
   "codemirror_mode": {
    "name": "ipython",
    "version": 3
   },
   "file_extension": ".py",
   "mimetype": "text/x-python",
   "name": "python",
   "nbconvert_exporter": "python",
   "pygments_lexer": "ipython3",
   "version": "3.11.7"
  }
 },
 "nbformat": 4,
 "nbformat_minor": 2
}
